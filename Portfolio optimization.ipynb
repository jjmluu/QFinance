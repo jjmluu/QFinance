{
 "cells": [
  {
   "cell_type": "markdown",
   "id": "e2c7c58a",
   "metadata": {},
   "source": [
    "## Portfolio Optimization Using Clustering.\n",
    "\n",
    "This project combines unsupervised machine learning (KMeans clustering) and portfolio theory to build more informed investment portfolios. \n",
    "First, we group stocks based on their statistical return behavior. \n",
    "Then, we apply mean-variance optimization within each cluster to construct efficient portfolios tailored to each group of similarly-behaving assets.\n",
    "This approach highlights how clustering can enhance diversification and lead to better portfolio construction decisions compared to treating all assets uniformly."
   ]
  },
  {
   "cell_type": "markdown",
   "id": "12d032fa",
   "metadata": {},
   "source": [
    "## Required Packages.\n",
    "\n",
    "You need to install the following packages before running this notebook(Use:pip install):\n",
    "\n",
    "List-yfinance pandas numpy matplotlib seaborn scikit-learn PyPortfolioOpt"
   ]
  },
  {
   "cell_type": "code",
   "execution_count": 1,
   "id": "3bd42bbd",
   "metadata": {},
   "outputs": [],
   "source": [
    "import yfinance as yf\n",
    "import pandas as pd\n",
    "from datetime import datetime, timedelta"
   ]
  },
  {
   "cell_type": "markdown",
   "id": "740e7f5b",
   "metadata": {},
   "source": [
    "We use `datetime` and `timedelta` to define our date range.\n",
    "\n",
    "- `datetime.now()` returns today's date\n",
    "- `timedelta(days=...)` lets us go back in time to fetch historical stock data"
   ]
  },
  {
   "cell_type": "code",
   "execution_count": 2,
   "id": "1329ee61",
   "metadata": {},
   "outputs": [],
   "source": [
    "end= datetime.now()\n",
    "start=end-timedelta(252*2)"
   ]
  },
  {
   "cell_type": "markdown",
   "id": "45a48ae1",
   "metadata": {},
   "source": [
    "## Downloading Historical Stock Data.\n",
    "\n",
    "We use `yfinance` to get 2 years of daily stock prices for selected companies.                                                            \n",
    "The `Close` price is used to calculate daily returns."
   ]
  },
  {
   "cell_type": "code",
   "execution_count": 3,
   "id": "19b56a46",
   "metadata": {},
   "outputs": [
    {
     "name": "stderr",
     "output_type": "stream",
     "text": [
      "C:\\Users\\julia\\AppData\\Local\\Temp\\ipykernel_18676\\805900971.py:2: FutureWarning: YF.download() has changed argument auto_adjust default to True\n",
      "  stock_data = yf.download(tickers, start, end)['Close']\n",
      "[*********************100%***********************]  10 of 10 completed\n"
     ]
    }
   ],
   "source": [
    "tickers = ['AAPL', 'MSFT', 'GOOGL', 'AMZN', 'META', 'TSLA', 'JPM', 'V', 'NVDA', 'JNJ']\n",
    "stock_data = yf.download(tickers, start, end)['Close']\n",
    "returns= stock_data.pct_change().dropna()"
   ]
  },
  {
   "cell_type": "markdown",
   "id": "9f9b080e",
   "metadata": {},
   "source": [
    "## Feature Engineering.\n",
    "\n",
    "We calculate mean return, volatility, skewness, and kurtosis of daily returns.                                                            \n",
    "These statistical features will be used for clustering."
   ]
  },
  {
   "cell_type": "code",
   "execution_count": 4,
   "id": "a8668cf2",
   "metadata": {},
   "outputs": [],
   "source": [
    "features = pd.DataFrame()\n",
    "features['mean_return'] = returns.mean()\n",
    "features['volatility'] = returns.std()\n",
    "features['skew'] = returns.skew()\n",
    "features['kurtosis'] = returns.kurtosis()"
   ]
  },
  {
   "cell_type": "markdown",
   "id": "a00ab935",
   "metadata": {},
   "source": [
    "## Unsupervised Clustering with KMeans.\n",
    "\n",
    "We use `KMeans` to group stocks into 3 clusters based on their return distributions.                                                        \n",
    "This helps segment assets by statistical behavior."
   ]
  },
  {
   "cell_type": "code",
   "execution_count": 5,
   "id": "aeb030ad",
   "metadata": {},
   "outputs": [],
   "source": [
    "from sklearn.preprocessing import StandardScaler\n",
    "from sklearn.cluster import KMeans\n",
    "import seaborn as sns\n",
    "import matplotlib.pyplot as plt\n",
    "\n",
    "X = StandardScaler().fit_transform(features)  # Normalize for clustering\n",
    "kmeans = KMeans(n_clusters=3, random_state=0)\n",
    "features['cluster'] = kmeans.fit_predict(X)"
   ]
  },
  {
   "cell_type": "markdown",
   "id": "6f577ee3",
   "metadata": {},
   "source": [
    "## Visualization of Clusters.\n",
    "\n",
    "A scatter plot shows how stocks are grouped based on their mean return and volatility.                                                    \n",
    "Each color represents a different cluster."
   ]
  },
  {
   "cell_type": "code",
   "execution_count": 6,
   "id": "a24bcb15",
   "metadata": {},
   "outputs": [
    {
     "data": {
      "image/png": "[encoded data removed]",
      "text/plain": [
       "<Figure size 640x480 with 1 Axes>"
      ]
     },
     "metadata": {},
     "output_type": "display_data"
    }
   ],
   "source": [
    "sns.scatterplot(data=features, x='mean_return', y='volatility', hue='cluster', palette='Set2')\n",
    "plt.title(\"Clusters of Stocks Based on Return and Volatility\")\n",
    "plt.xlabel(\"Mean Return\")\n",
    "plt.ylabel(\"Volatility\")\n",
    "plt.grid(True)\n",
    "plt.show()"
   ]
  },
  {
   "cell_type": "markdown",
   "id": "ba60e9e5",
   "metadata": {},
   "source": [
    "## Portfolio optimization in each cluster.\n",
    "\n",
    "We use `PyPortfolioOpt` to find the optimal portfolio (maximum Sharpe ratio) for each cluster of assets based on expected return and risk."
   ]
  },
  {
   "cell_type": "code",
   "execution_count": 7,
   "id": "e937755d",
   "metadata": {},
   "outputs": [
    {
     "name": "stdout",
     "output_type": "stream",
     "text": [
      "Cluster 0 Optimal Weights:\n",
      " OrderedDict({'AAPL': 0.0, 'AMZN': 0.0, 'GOOGL': 0.0, 'JPM': 0.78197, 'META': 0.21803, 'MSFT': 0.0})\n",
      "Cluster 1 Optimal Weights:\n",
      " OrderedDict({'NVDA': 0.83194, 'TSLA': 0.16806})\n",
      "Cluster 2 Optimal Weights:\n",
      " OrderedDict({'JNJ': 0.0, 'V': 1.0})\n"
     ]
    }
   ],
   "source": [
    "from pypfopt.efficient_frontier import EfficientFrontier\n",
    "from pypfopt.risk_models import CovarianceShrinkage\n",
    "from pypfopt.expected_returns import mean_historical_return\n",
    "\n",
    "for i in range(3):\n",
    "    group = features[features['cluster'] == i].index\n",
    "    price_data = stock_data[group]\n",
    "\n",
    "    mu = mean_historical_return(price_data)\n",
    "    S = CovarianceShrinkage(price_data).ledoit_wolf()\n",
    "\n",
    "    ef = EfficientFrontier(mu, S)\n",
    "    weights = ef.max_sharpe()\n",
    "    cleaned_weights = ef.clean_weights()\n",
    "\n",
    "    print(f\"Cluster {i} Optimal Weights:\\n\", cleaned_weights)\n"
   ]
  },
  {
   "cell_type": "markdown",
   "id": "9d59ceb2",
   "metadata": {},
   "source": [
    "## Interpretation\n",
    "\n",
    "Each cluster gives us an optimized set of asset weights.                                                                              These optimized portfolios represent the most efficient allocation within each asset cluster, based on historical return and risk metrics.                                                                                                                                 \n",
    "Recommendations can therefore be made based on aspects such as investor risk appetite."
   ]
  }
 ],
 "metadata": {
  "kernelspec": {
   "display_name": "Python 3",
   "language": "python",
   "name": "python3"
  },
  "language_info": {
   "codemirror_mode": {
    "name": "ipython",
    "version": 3
   },
   "file_extension": ".py",
   "mimetype": "text/x-python",
   "name": "python",
   "nbconvert_exporter": "python",
   "pygments_lexer": "ipython3",
   "version": "3.13.5"
  }
 },
 "nbformat": 4,
 "nbformat_minor": 5
}
